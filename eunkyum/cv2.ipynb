{
  "nbformat": 4,
  "nbformat_minor": 0,
  "metadata": {
    "kernelspec": {
      "display_name": "Python 3",
      "language": "python",
      "name": "python3"
    },
    "language_info": {
      "codemirror_mode": {
        "name": "ipython",
        "version": 3
      },
      "file_extension": ".py",
      "mimetype": "text/x-python",
      "name": "python",
      "nbconvert_exporter": "python",
      "pygments_lexer": "ipython3",
      "version": "3.6.6"
    },
    "colab": {
      "name": "은겸_cv2 (1).ipynb",
      "provenance": []
    }
  },
  "cells": [
    {
      "cell_type": "code",
      "metadata": {
        "id": "B5LCDO1MwNxK"
      },
      "source": [
        "import cv2\n",
        "import matplotlib.image as img\n",
        "import matplotlib.pyplot as plt\n",
        "import numpy as np\n",
        "import random\n",
        "import os\n",
        "from scipy.stats import wasserstein_distance\n",
        "from imageio import imread\n",
        "from PIL import ImageFile\n",
        "import pandas as pd\n",
        "\n",
        "ImageFile.LOAD_TRUNCATED_IMAGES = True"
      ],
      "execution_count": null,
      "outputs": []
    },
    {
      "cell_type": "code",
      "metadata": {
        "id": "mz2uvmFawNxT"
      },
      "source": [
        "def get_histogram(img):\n",
        "    h, w = img.shape\n",
        "    hist = [0.0] * 256\n",
        "    for i in range(h):\n",
        "        for j in range(w):\n",
        "            hist[img[i, j]] += 1\n",
        "    return np.array(hist) / (h * w) # 히스토그램 "
      ],
      "execution_count": null,
      "outputs": []
    },
    {
      "cell_type": "code",
      "metadata": {
        "id": "9kl7ou9gwNxU"
      },
      "source": [
        "sift = cv2.xfeatures2d.SIFT_create()\n",
        "bfMatcher = cv2.BFMatcher()"
      ],
      "execution_count": null,
      "outputs": []
    },
    {
      "cell_type": "code",
      "metadata": {
        "id": "WusNKG29wNxV"
      },
      "source": [
        "df1 = pd.read_csv(r'C:\\Users\\User\\Desktop\\동일이미지_하은겸\\담당별데이터\\강원인프라담당_루즈튜브.csv', index_col=0)"
      ],
      "execution_count": null,
      "outputs": []
    },
    {
      "cell_type": "code",
      "metadata": {
        "id": "_ZWd_qBqwNxW"
      },
      "source": [
        "df1.head()"
      ],
      "execution_count": null,
      "outputs": []
    },
    {
      "cell_type": "code",
      "metadata": {
        "id": "vRd-MOSLwNxX"
      },
      "source": [
        "df1.shape"
      ],
      "execution_count": null,
      "outputs": []
    },
    {
      "cell_type": "code",
      "metadata": {
        "id": "LaDPd4CfwNxY"
      },
      "source": [
        "two_month = list(range(2,31))\n",
        "two_month"
      ],
      "execution_count": null,
      "outputs": []
    },
    {
      "cell_type": "code",
      "metadata": {
        "id": "nqd3faZNwNxY"
      },
      "source": [
        "make_list = []"
      ],
      "execution_count": null,
      "outputs": []
    },
    {
      "cell_type": "code",
      "metadata": {
        "id": "vsDFw009wNxZ"
      },
      "source": [
        "df1_sample = df1[df1['month'].isin([9])] # 9월\n",
        "df1_sample.head()"
      ],
      "execution_count": null,
      "outputs": []
    },
    {
      "cell_type": "code",
      "metadata": {
        "id": "178BQjDiwNxZ"
      },
      "source": [
        "df1_sample.shape"
      ],
      "execution_count": null,
      "outputs": []
    },
    {
      "cell_type": "code",
      "metadata": {
        "id": "HtILxRonwNxa"
      },
      "source": [
        "pic_month = list(df1_sample['month'])\n",
        "pic_day= list(df1_sample['day'])\n",
        "pic_name = list(df1_sample['사진파일명'])"
      ],
      "execution_count": null,
      "outputs": []
    },
    {
      "cell_type": "code",
      "metadata": {
        "id": "MQMyWvZ2wNxa"
      },
      "source": [
        "file_name = []"
      ],
      "execution_count": null,
      "outputs": []
    },
    {
      "cell_type": "code",
      "metadata": {
        "id": "uKykm_o1wNxa"
      },
      "source": [
        "for i in range(len(df1_sample)):\n",
        "    pic =str(pic_month[i])+ '/' + str(pic_day[i]) +'/'+pic_name[i]\n",
        "    file_name.append(pic)"
      ],
      "execution_count": null,
      "outputs": []
    },
    {
      "cell_type": "code",
      "metadata": {
        "id": "BgOj2PgpwNxb"
      },
      "source": [
        "file_name"
      ],
      "execution_count": null,
      "outputs": []
    },
    {
      "cell_type": "code",
      "metadata": {
        "id": "2DxS5ogtwNxb"
      },
      "source": [
        "temp_df5 = pd.DataFrame(index=range(0,0), columns=['name','keyPointDescriptor','array'])"
      ],
      "execution_count": null,
      "outputs": []
    },
    {
      "cell_type": "code",
      "metadata": {
        "id": "3h2uBMBfwNxc"
      },
      "source": [
        "temp_df5"
      ],
      "execution_count": null,
      "outputs": []
    },
    {
      "cell_type": "code",
      "metadata": {
        "id": "DhDTQj72wNxc"
      },
      "source": [
        "index = 0\n",
        "for i in file_name:\n",
        "    file_name = \"D:/\" + i\n",
        "    #print(pic_name[j])\n",
        "    try:\n",
        "        rotateImageNDArray = cv2.imread(file_name)\n",
        "        rotateGrayscaleImagenDArray = cv2.cvtColor(rotateImageNDArray, cv2.COLOR_BGR2GRAY)\n",
        "        rotateKeyPointList, rotateKeyPointDescriptor = sift.detectAndCompute(rotateGrayscaleImagenDArray, None)\n",
        "        input_image2 = imread(file_name, pilmode='L')\n",
        "        input_image_hist = get_histogram(input_image2)\n",
        "        temp_list = {'name':pic_name[index], 'keyPointDescriptor':[rotateKeyPointDescriptor],'array':[input_image_hist]}\n",
        "        temp_df5 = temp_df5.append(temp_list, ignore_index=True)\n",
        "    except:\n",
        "        temp_list = {'name':pic_name[index], 'keyPointDescriptor':None,'array':None}\n",
        "        temp_df5 = temp_df5.append(temp_list, ignore_index=True)\n",
        "        \n",
        "    index = index+1\n",
        "    print(index)"
      ],
      "execution_count": null,
      "outputs": []
    },
    {
      "cell_type": "code",
      "metadata": {
        "id": "8xp_sMmAwNxd"
      },
      "source": [
        "temp_df5"
      ],
      "execution_count": null,
      "outputs": []
    },
    {
      "cell_type": "code",
      "metadata": {
        "id": "v9HpvhCGwNxd"
      },
      "source": [
        "temp_df5.to_csv('9_강원인프라담당_루즈튜브.csv')"
      ],
      "execution_count": null,
      "outputs": []
    },
    {
      "cell_type": "code",
      "metadata": {
        "id": "n9-NTQQ1wNxd"
      },
      "source": [
        ""
      ],
      "execution_count": null,
      "outputs": []
    },
    {
      "cell_type": "code",
      "metadata": {
        "id": "EUHvaUEcwNxe"
      },
      "source": [
        ""
      ],
      "execution_count": null,
      "outputs": []
    }
  ]
}
