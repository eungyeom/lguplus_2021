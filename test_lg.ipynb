{
  "nbformat": 4,
  "nbformat_minor": 0,
  "metadata": {
    "colab": {
      "name": "test_lg.ipynb",
      "private_outputs": true,
      "provenance": [],
      "authorship_tag": "ABX9TyM3cm03ZOIBWMTvuDy/aqUZ"
    },
    "kernelspec": {
      "name": "python3",
      "display_name": "Python 3"
    }
  },
  "cells": [
    {
      "cell_type": "code",
      "metadata": {
        "id": "VqJZhcHPMlvc"
      },
      "source": [
        "''' 삼성전자\r\n",
        "82,000 '''"
      ],
      "execution_count": null,
      "outputs": []
    },
    {
      "cell_type": "code",
      "metadata": {
        "id": "2KDqt3GKMssZ"
      },
      "source": [
        ""
      ],
      "execution_count": null,
      "outputs": []
    }
  ]
}